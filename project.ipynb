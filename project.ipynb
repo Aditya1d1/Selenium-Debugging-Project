{
 "cells": [
  {
   "cell_type": "code",
   "execution_count": 2,
   "id": "04393852",
   "metadata": {},
   "outputs": [
    {
     "name": "stdout",
     "output_type": "stream",
     "text": [
      "Navigating to CodeChef login page...\n",
      "Waiting for login form...\n",
      "Filling in credentials...\n",
      "Enter password :········\n",
      "Waiting for submit button...\n",
      "Clicking login button using JS...\n",
      "✅ Login submitted!\n",
      "Waiting after login to view result...\n"
     ]
    }
   ],
   "source": [
    "from selenium import webdriver\n",
    "from selenium.webdriver.chrome.service import Service\n",
    "from selenium.webdriver.common.by import By\n",
    "from selenium.webdriver.support.ui import WebDriverWait\n",
    "from selenium.webdriver.support import expected_conditions as EC\n",
    "import traceback\n",
    "import time\n",
    "from getpass import getpass \n",
    "\n",
    "try:\n",
    "    # Setup driver\n",
    "    service = Service(r\"C:\\Users\\Administrator\\Documents\\chromedriver-win64\\chromedriver-win64\\chromedriver.exe\")\n",
    "    driver = webdriver.Chrome(service=service)\n",
    "    driver.maximize_window()\n",
    "\n",
    "    print(\"Navigating to CodeChef login page...\")\n",
    "    driver.get(\"https://www.codechef.com/login?destination=/\")\n",
    "\n",
    "    print(\"Waiting for login form...\")\n",
    "    WebDriverWait(driver, 20).until(\n",
    "        EC.presence_of_element_located((By.ID, \"edit-name\"))\n",
    "    )\n",
    "\n",
    "    print(\"Filling in credentials...\")\n",
    "    driver.find_element(By.ID, \"edit-name\").send_keys(\"kiranthakur22222@gmail.com\")     # Use real username\n",
    "    driver.find_element(By.ID, \"edit-pass\").send_keys(\"Aadi1ritu2@\") # Use real password\n",
    "    driver.find_element(By.ID, \"edit-pass\").send_keys(getpass(\"Enter password :\"))\n",
    "    \n",
    "\n",
    "    print(\"Waiting for submit button...\")\n",
    "    submit_button = WebDriverWait(driver, 20).until(\n",
    "        EC.presence_of_element_located((By.ID, \"edit-submit-button\"))\n",
    "    )\n",
    "\n",
    "    print(\"Clicking login button using JS...\")\n",
    "    driver.execute_script(\"arguments[0].click();\", submit_button)\n",
    "\n",
    "    print(\"✅ Login submitted!\")\n",
    "\n",
    "except Exception:\n",
    "    print(\"❌ Something went wrong.\")\n",
    "    traceback.print_exc()\n",
    "    # Save debugging info\n",
    "    driver.save_screenshot(\"codechef_login_debug.png\")\n",
    "    with open(\"codechef_login_debug.html\", \"w\", encoding=\"utf-8\") as f:\n",
    "        f.write(driver.page_source)\n",
    "\n",
    "finally:\n",
    "    print(\"Waiting after login to view result...\")\n",
    "  \n",
    "    \n"
   ]
  },
  {
   "cell_type": "code",
   "execution_count": 3,
   "id": "1b3209da",
   "metadata": {},
   "outputs": [],
   "source": [
    "driver.get(\"https://www.codechef.com/submit/TEST\")"
   ]
  },
  {
   "cell_type": "code",
   "execution_count": 5,
   "id": "b3766723",
   "metadata": {},
   "outputs": [
    {
     "ename": "NoSuchElementException",
     "evalue": "Message: no such element: Unable to locate element: {\"method\":\"css selector\",\"selector\":\"[id=\"edit-program\"]\"}\n  (Session info: chrome=138.0.7204.50); For documentation on this error, please visit: https://www.selenium.dev/documentation/webdriver/troubleshooting/errors#no-such-element-exception\nStacktrace:\n\tGetHandleVerifier [0x0x7ff63d337005+76917]\n\tGetHandleVerifier [0x0x7ff63d337060+77008]\n\t(No symbol) [0x0x7ff63d0e9dea]\n\t(No symbol) [0x0x7ff63d140256]\n\t(No symbol) [0x0x7ff63d14050c]\n\t(No symbol) [0x0x7ff63d193887]\n\t(No symbol) [0x0x7ff63d1684af]\n\t(No symbol) [0x0x7ff63d19065c]\n\t(No symbol) [0x0x7ff63d168243]\n\t(No symbol) [0x0x7ff63d131431]\n\t(No symbol) [0x0x7ff63d1321c3]\n\tGetHandleVerifier [0x0x7ff63d60d32d+3051421]\n\tGetHandleVerifier [0x0x7ff63d607983+3028467]\n\tGetHandleVerifier [0x0x7ff63d62591d+3151245]\n\tGetHandleVerifier [0x0x7ff63d3518ce+185662]\n\tGetHandleVerifier [0x0x7ff63d35978f+218111]\n\tGetHandleVerifier [0x0x7ff63d33fb84+112628]\n\tGetHandleVerifier [0x0x7ff63d33fd39+113065]\n\tGetHandleVerifier [0x0x7ff63d326d08+10616]\n\tBaseThreadInitThunk [0x0x7ffc68327c24+20]\n\tRtlUserThreadStart [0x0x7ffc69bcd721+33]\n",
     "output_type": "error",
     "traceback": [
      "\u001b[1;31m---------------------------------------------------------------------------\u001b[0m",
      "\u001b[1;31mNoSuchElementException\u001b[0m                    Traceback (most recent call last)",
      "Cell \u001b[1;32mIn[5], line 1\u001b[0m\n\u001b[1;32m----> 1\u001b[0m driver\u001b[38;5;241m.\u001b[39mfind_element(By\u001b[38;5;241m.\u001b[39mID,\u001b[38;5;124m'\u001b[39m\u001b[38;5;124medit-program\u001b[39m\u001b[38;5;124m'\u001b[39m)\n",
      "File \u001b[1;32mC:\\ProgramData\\anaconda3\\Lib\\site-packages\\selenium\\webdriver\\remote\\webdriver.py:914\u001b[0m, in \u001b[0;36mWebDriver.find_element\u001b[1;34m(self, by, value)\u001b[0m\n\u001b[0;32m    911\u001b[0m         \u001b[38;5;28;01mraise\u001b[39;00m NoSuchElementException(\u001b[38;5;124mf\u001b[39m\u001b[38;5;124m\"\u001b[39m\u001b[38;5;124mCannot locate relative element with: \u001b[39m\u001b[38;5;132;01m{\u001b[39;00mby\u001b[38;5;241m.\u001b[39mroot\u001b[38;5;132;01m}\u001b[39;00m\u001b[38;5;124m\"\u001b[39m)\n\u001b[0;32m    912\u001b[0m     \u001b[38;5;28;01mreturn\u001b[39;00m elements[\u001b[38;5;241m0\u001b[39m]\n\u001b[1;32m--> 914\u001b[0m \u001b[38;5;28;01mreturn\u001b[39;00m \u001b[38;5;28mself\u001b[39m\u001b[38;5;241m.\u001b[39mexecute(Command\u001b[38;5;241m.\u001b[39mFIND_ELEMENT, {\u001b[38;5;124m\"\u001b[39m\u001b[38;5;124musing\u001b[39m\u001b[38;5;124m\"\u001b[39m: by, \u001b[38;5;124m\"\u001b[39m\u001b[38;5;124mvalue\u001b[39m\u001b[38;5;124m\"\u001b[39m: value})[\u001b[38;5;124m\"\u001b[39m\u001b[38;5;124mvalue\u001b[39m\u001b[38;5;124m\"\u001b[39m]\n",
      "File \u001b[1;32mC:\\ProgramData\\anaconda3\\Lib\\site-packages\\selenium\\webdriver\\remote\\webdriver.py:447\u001b[0m, in \u001b[0;36mWebDriver.execute\u001b[1;34m(self, driver_command, params)\u001b[0m\n\u001b[0;32m    445\u001b[0m response \u001b[38;5;241m=\u001b[39m \u001b[38;5;28mself\u001b[39m\u001b[38;5;241m.\u001b[39mcommand_executor\u001b[38;5;241m.\u001b[39mexecute(driver_command, params)\n\u001b[0;32m    446\u001b[0m \u001b[38;5;28;01mif\u001b[39;00m response:\n\u001b[1;32m--> 447\u001b[0m     \u001b[38;5;28mself\u001b[39m\u001b[38;5;241m.\u001b[39merror_handler\u001b[38;5;241m.\u001b[39mcheck_response(response)\n\u001b[0;32m    448\u001b[0m     response[\u001b[38;5;124m\"\u001b[39m\u001b[38;5;124mvalue\u001b[39m\u001b[38;5;124m\"\u001b[39m] \u001b[38;5;241m=\u001b[39m \u001b[38;5;28mself\u001b[39m\u001b[38;5;241m.\u001b[39m_unwrap_value(response\u001b[38;5;241m.\u001b[39mget(\u001b[38;5;124m\"\u001b[39m\u001b[38;5;124mvalue\u001b[39m\u001b[38;5;124m\"\u001b[39m, \u001b[38;5;28;01mNone\u001b[39;00m))\n\u001b[0;32m    449\u001b[0m     \u001b[38;5;28;01mreturn\u001b[39;00m response\n",
      "File \u001b[1;32mC:\\ProgramData\\anaconda3\\Lib\\site-packages\\selenium\\webdriver\\remote\\errorhandler.py:232\u001b[0m, in \u001b[0;36mErrorHandler.check_response\u001b[1;34m(self, response)\u001b[0m\n\u001b[0;32m    230\u001b[0m         alert_text \u001b[38;5;241m=\u001b[39m value[\u001b[38;5;124m\"\u001b[39m\u001b[38;5;124malert\u001b[39m\u001b[38;5;124m\"\u001b[39m]\u001b[38;5;241m.\u001b[39mget(\u001b[38;5;124m\"\u001b[39m\u001b[38;5;124mtext\u001b[39m\u001b[38;5;124m\"\u001b[39m)\n\u001b[0;32m    231\u001b[0m     \u001b[38;5;28;01mraise\u001b[39;00m exception_class(message, screen, stacktrace, alert_text)  \u001b[38;5;66;03m# type: ignore[call-arg]  # mypy is not smart enough here\u001b[39;00m\n\u001b[1;32m--> 232\u001b[0m \u001b[38;5;28;01mraise\u001b[39;00m exception_class(message, screen, stacktrace)\n",
      "\u001b[1;31mNoSuchElementException\u001b[0m: Message: no such element: Unable to locate element: {\"method\":\"css selector\",\"selector\":\"[id=\"edit-program\"]\"}\n  (Session info: chrome=138.0.7204.50); For documentation on this error, please visit: https://www.selenium.dev/documentation/webdriver/troubleshooting/errors#no-such-element-exception\nStacktrace:\n\tGetHandleVerifier [0x0x7ff63d337005+76917]\n\tGetHandleVerifier [0x0x7ff63d337060+77008]\n\t(No symbol) [0x0x7ff63d0e9dea]\n\t(No symbol) [0x0x7ff63d140256]\n\t(No symbol) [0x0x7ff63d14050c]\n\t(No symbol) [0x0x7ff63d193887]\n\t(No symbol) [0x0x7ff63d1684af]\n\t(No symbol) [0x0x7ff63d19065c]\n\t(No symbol) [0x0x7ff63d168243]\n\t(No symbol) [0x0x7ff63d131431]\n\t(No symbol) [0x0x7ff63d1321c3]\n\tGetHandleVerifier [0x0x7ff63d60d32d+3051421]\n\tGetHandleVerifier [0x0x7ff63d607983+3028467]\n\tGetHandleVerifier [0x0x7ff63d62591d+3151245]\n\tGetHandleVerifier [0x0x7ff63d3518ce+185662]\n\tGetHandleVerifier [0x0x7ff63d35978f+218111]\n\tGetHandleVerifier [0x0x7ff63d33fb84+112628]\n\tGetHandleVerifier [0x0x7ff63d33fd39+113065]\n\tGetHandleVerifier [0x0x7ff63d326d08+10616]\n\tBaseThreadInitThunk [0x0x7ffc68327c24+20]\n\tRtlUserThreadStart [0x0x7ffc69bcd721+33]\n"
     ]
    }
   ],
   "source": [
    "driver.find_element(By.ID,'edit-program')"
   ]
  },
  {
   "cell_type": "code",
   "execution_count": null,
   "id": "ba5d910b",
   "metadata": {},
   "outputs": [],
   "source": [
    "code"
   ]
  },
  {
   "cell_type": "code",
   "execution_count": null,
   "id": "c2e28f3b",
   "metadata": {},
   "outputs": [],
   "source": []
  },
  {
   "cell_type": "code",
   "execution_count": null,
   "id": "d6bca9e0",
   "metadata": {},
   "outputs": [],
   "source": []
  },
  {
   "cell_type": "code",
   "execution_count": null,
   "id": "c6862094",
   "metadata": {},
   "outputs": [],
   "source": []
  },
  {
   "cell_type": "code",
   "execution_count": null,
   "id": "5c5f10dd",
   "metadata": {},
   "outputs": [],
   "source": []
  },
  {
   "cell_type": "code",
   "execution_count": null,
   "id": "fec95602",
   "metadata": {},
   "outputs": [],
   "source": []
  },
  {
   "cell_type": "code",
   "execution_count": null,
   "id": "9d477215",
   "metadata": {},
   "outputs": [],
   "source": []
  },
  {
   "cell_type": "code",
   "execution_count": null,
   "id": "5ab341c9",
   "metadata": {},
   "outputs": [],
   "source": []
  }
 ],
 "metadata": {
  "kernelspec": {
   "display_name": "Python 3 (ipykernel)",
   "language": "python",
   "name": "python3"
  },
  "language_info": {
   "codemirror_mode": {
    "name": "ipython",
    "version": 3
   },
   "file_extension": ".py",
   "mimetype": "text/x-python",
   "name": "python",
   "nbconvert_exporter": "python",
   "pygments_lexer": "ipython3",
   "version": "3.11.5"
  }
 },
 "nbformat": 4,
 "nbformat_minor": 5
}
